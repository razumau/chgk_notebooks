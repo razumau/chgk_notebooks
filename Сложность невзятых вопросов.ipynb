{
 "cells": [
  {
   "cell_type": "code",
   "execution_count": 1,
   "metadata": {},
   "outputs": [],
   "source": [
    "from chgk_rating_client import Rating\n",
    "from collections import defaultdict\n",
    "from pprint import pprint\n",
    "from typing import Dict, List, NamedTuple"
   ]
  },
  {
   "cell_type": "code",
   "execution_count": 2,
   "metadata": {},
   "outputs": [],
   "source": [
    "class Question(NamedTuple):\n",
    "    number: int\n",
    "    teams: int\n",
    "    percentage: float\n",
    "        \n",
    "    def __repr__(self):\n",
    "        return f\"{self.number:2} — {self.teams:2} команд ({self.percentage:2.2f}%)\"\n",
    "\n",
    "\n",
    "def build_question_mapping(tournament_results: List) -> Dict:\n",
    "    qs = defaultdict(int)\n",
    "    for team in tournament_results:\n",
    "        mask_fixed = team[\"mask\"].replace(\"?\", \"0\")\n",
    "        for q_number, q_result in enumerate(mask_fixed, 1):\n",
    "            qs[q_number] += int(q_result)\n",
    "    return qs\n",
    "\n",
    "            \n",
    "def get_team_stats(team_id: int, tournament_id: int, client: Rating) -> List[Question]:\n",
    "    all_results = client.tournament_results(tournament_id)\n",
    "    teams_count = len(all_results)\n",
    "    questions = build_question_mapping(all_results)\n",
    "    \n",
    "    team_results = [r for r in all_results if int(r['idteam']) == team_id][0]\n",
    "    team_zeroes = [q_num + 1 \n",
    "                   for q_num, q_res in enumerate(team_results['mask']) \n",
    "                   if q_res != '1']\n",
    "    \n",
    "    stats = [Question(q_number, questions[q_number], round(questions[q_number] / teams_count * 100.0, 2)) \n",
    "             for q_number in team_zeroes]\n",
    "    \n",
    "    return sorted(stats, key=lambda x: -x.teams)"
   ]
  },
  {
   "cell_type": "code",
   "execution_count": 3,
   "metadata": {},
   "outputs": [],
   "source": [
    "rating_client = Rating(redis_host=\"localhost\")"
   ]
  },
  {
   "cell_type": "code",
   "execution_count": 4,
   "metadata": {},
   "outputs": [
    {
     "name": "stdout",
     "output_type": "stream",
     "text": [
      "31 — 73 команд (74.49%)\n",
      "27 — 44 команд (44.90%)\n",
      "45 — 39 команд (39.80%)\n",
      "22 — 31 команд (31.63%)\n",
      "13 — 28 команд (28.57%)\n",
      "43 — 28 команд (28.57%)\n",
      "52 — 27 команд (27.55%)\n",
      "35 — 20 команд (20.41%)\n",
      " 6 — 19 команд (19.39%)\n",
      "34 — 19 команд (19.39%)\n",
      " 7 — 17 команд (17.35%)\n",
      "29 — 15 команд (15.31%)\n",
      "46 — 14 команд (14.29%)\n",
      "56 — 11 команд (11.22%)\n",
      "19 — 10 команд (10.20%)\n",
      "26 — 10 команд (10.20%)\n",
      "10 —  8 команд (8.16%)\n",
      "55 —  8 команд (8.16%)\n",
      "60 —  6 команд (6.12%)\n",
      "57 —  5 команд (5.10%)\n",
      "42 —  4 команд (4.08%)\n",
      "50 —  4 команд (4.08%)\n",
      "36 —  2 команд (2.04%)\n",
      "25 —  1 команд (1.02%)\n",
      " 8 —  0 команд (0.00%)\n",
      " 9 —  0 команд (0.00%)\n",
      "44 —  0 команд (0.00%)\n",
      "51 —  0 команд (0.00%)\n"
     ]
    }
   ],
   "source": [
    "tournament_id = 5795\n",
    "team_id = 27129\n",
    "stats = get_team_stats(team_id, tournament_id, rating_client)\n",
    "for s in stats:\n",
    "    print(s)"
   ]
  }
 ],
 "metadata": {
  "kernelspec": {
   "display_name": "Python 3",
   "language": "python",
   "name": "python3"
  },
  "language_info": {
   "codemirror_mode": {
    "name": "ipython",
    "version": 3
   },
   "file_extension": ".py",
   "mimetype": "text/x-python",
   "name": "python",
   "nbconvert_exporter": "python",
   "pygments_lexer": "ipython3",
   "version": "3.7.3"
  }
 },
 "nbformat": 4,
 "nbformat_minor": 2
}
