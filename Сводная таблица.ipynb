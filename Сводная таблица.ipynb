{
 "cells": [
  {
   "cell_type": "code",
   "execution_count": 1,
   "metadata": {},
   "outputs": [],
   "source": [
    "import csv\n",
    "from typing import Set, Dict\n",
    "from chgk_rating_client import Rating"
   ]
  },
  {
   "cell_type": "code",
   "execution_count": 2,
   "metadata": {},
   "outputs": [],
   "source": [
    "questions_mapping_str = \"\"\"\n",
    "2 4 8 9 12 13 14 16 18 19 21 23 24 25 30\n",
    "10 11 20 70 35 36 48 49 50 53 54 55 58 59 60\n",
    "32 37 38 39 41 34 61 64 65 66 67 69 72 75\n",
    "\"\"\"\n",
    "\n",
    "questions = set(int(q) for q in questions_mapping_str.split())"
   ]
  },
  {
   "cell_type": "code",
   "execution_count": 3,
   "metadata": {},
   "outputs": [],
   "source": [
    "def extract_synch_questions_results(team_result: Dict, questions: Set):\n",
    "    team_result_str = team_result[\"mask\"]\n",
    "    team_relevant_results = [int(q_res) \n",
    "                             for q_num, q_res in enumerate(team_result_str, 1) \n",
    "                             if q_num in questions]\n",
    "    return team_result[\"current_name\"], sum(team_relevant_results), \"кест\"\n",
    "\n",
    "def get_merged_results(base_id: int, synch_id: int, questions: Set, client: Rating):\n",
    "    base_results_raw = client.tournament_results(base_id)\n",
    "    synch_results_raw = client.tournament_results(synch_id)\n",
    "    base_results = [extract_synch_questions_results(tr, questions) \n",
    "                    for tr in base_results_raw]\n",
    "    synch_results = [(tr[\"current_name\"], int(tr[\"questions_total\"]), \"синхрон\")\n",
    "                    for tr in synch_results_raw]\n",
    "    return base_results + synch_results"
   ]
  },
  {
   "cell_type": "code",
   "execution_count": 4,
   "metadata": {},
   "outputs": [],
   "source": [
    "base_id = 5773\n",
    "synch_id = 5774\n",
    "rating_client = Rating(redis_host=\"localhost\")\n",
    "merged = get_merged_results(5773, 5774, questions, rating_client)\n",
    "merged_and_sorted = sorted(merged, key=lambda x: -x[1])"
   ]
  },
  {
   "cell_type": "code",
   "execution_count": 5,
   "metadata": {},
   "outputs": [],
   "source": [
    "with open(\"kest_2019.csv\", \"w\") as csvfile:\n",
    "    writer = csv.writer(csvfile)\n",
    "    writer.writerow((\"Команда\", \"Сумма\", \"Турнир\"))\n",
    "    writer.writerows(merged_and_sorted)"
   ]
  },
  {
   "cell_type": "code",
   "execution_count": null,
   "metadata": {},
   "outputs": [],
   "source": []
  }
 ],
 "metadata": {
  "kernelspec": {
   "display_name": "Python 3",
   "language": "python",
   "name": "python3"
  },
  "language_info": {
   "codemirror_mode": {
    "name": "ipython",
    "version": 3
   },
   "file_extension": ".py",
   "mimetype": "text/x-python",
   "name": "python",
   "nbconvert_exporter": "python",
   "pygments_lexer": "ipython3",
   "version": "3.7.3"
  }
 },
 "nbformat": 4,
 "nbformat_minor": 2
}
